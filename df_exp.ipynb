{
 "cells": [
  {
   "cell_type": "code",
   "execution_count": 2,
   "id": "3f09cf3a",
   "metadata": {},
   "outputs": [],
   "source": [
    "import pandas as pd\n",
    "\n"
   ]
  },
  {
   "cell_type": "code",
   "execution_count": 3,
   "id": "7c67d563",
   "metadata": {},
   "outputs": [],
   "source": [
    "# Load dataset\n",
    "movies = pd.read_csv('/Users/raynasser/Downloads/filmtv_movies.csv')  \n",
    "\n",
    "# movies.dropna(\"\")\n",
    "\n",
    "\n",
    "\n",
    "# filmtv_id                0\n",
    "# title                    0\n",
    "# year                     0\n",
    "# genre                   95\n",
    "# duration                 0\n",
    "# country                 10\n",
    "# directors               34\n",
    "# actors                2127\n",
    "# avg_vote                 0\n",
    "# critics_vote          4696\n",
    "# public_vote            194\n",
    "# total_votes              0\n",
    "# description           1542\n",
    "# notes                22602\n",
    "# humor                    0\n",
    "# rhythm                   0\n",
    "# effort                   0\n",
    "# tension                  0\n",
    "# erotism                  0\n",
    "# genres                   0\n",
    "# director                 0\n",
    "# cast                     0"
   ]
  },
  {
   "cell_type": "code",
   "execution_count": 8,
   "id": "11922f39",
   "metadata": {},
   "outputs": [
    {
     "data": {
      "text/plain": [
       "['Animation',\n",
       " 'Drama',\n",
       " 'Romantic',\n",
       " 'Comedy',\n",
       " 'Spy',\n",
       " 'Crime',\n",
       " 'Thriller',\n",
       " 'Adventure',\n",
       " 'Documentary',\n",
       " 'Horror',\n",
       " 'Action',\n",
       " 'Western',\n",
       " 'Biography',\n",
       " 'Musical',\n",
       " 'Sci-Fi',\n",
       " 'War',\n",
       " 'Grotesque',\n",
       " 'Gangster',\n",
       " 'Fantasy',\n",
       " 'Mélo',\n",
       " 'Mythology',\n",
       " 'History',\n",
       " 'Erotico',\n",
       " 'Noir',\n",
       " 'Super-hero',\n",
       " 'Biblical',\n",
       " 'Sport',\n",
       " 'Sperimental',\n",
       " nan,\n",
       " 'Short Movie',\n",
       " 'Stand-up Comedy']"
      ]
     },
     "execution_count": 8,
     "metadata": {},
     "output_type": "execute_result"
    }
   ],
   "source": [
    "genres = list(movies['genre'].unique())\n",
    "\n",
    "genres\n",
    "\n"
   ]
  },
  {
   "cell_type": "code",
   "execution_count": null,
   "id": "5b09063b",
   "metadata": {},
   "outputs": [],
   "source": [
    "movies.isnull().sum()"
   ]
  },
  {
   "cell_type": "code",
   "execution_count": null,
   "id": "c794f562",
   "metadata": {},
   "outputs": [],
   "source": []
  }
 ],
 "metadata": {
  "kernelspec": {
   "display_name": "Python 3 (ipykernel)",
   "language": "python",
   "name": "python3"
  },
  "language_info": {
   "codemirror_mode": {
    "name": "ipython",
    "version": 3
   },
   "file_extension": ".py",
   "mimetype": "text/x-python",
   "name": "python",
   "nbconvert_exporter": "python",
   "pygments_lexer": "ipython3",
   "version": "3.11.4"
  }
 },
 "nbformat": 4,
 "nbformat_minor": 5
}
